{
 "cells": [
  {
   "cell_type": "code",
   "execution_count": 1,
   "id": "5a249be9-ac28-4203-9fe1-507b12f28eb2",
   "metadata": {},
   "outputs": [],
   "source": [
    "import matplotlib\n",
    "import matplotlib.pyplot as plt\n",
    "import seaborn as sns\n",
    "\n",
    "#Preprocessing Libraries\n",
    "import pandas as pd\n",
    "import numpy as np\n",
    "from sklearn.model_selection import train_test_split\n",
    "from sklearn.metrics import precision_score, recall_score, confusion_matrix, classification_report, accuracy_score\n",
    "\n",
    "# ML Libraries\n",
    "from sklearn.ensemble import RandomForestClassifier\n",
    "from sklearn.neighbors import KNeighborsClassifier\n",
    "from sklearn.tree import DecisionTreeClassifier, plot_tree\n",
    "\n",
    "# Evaluation Metrics\n",
    "\n",
    "from sklearn import metrics\n",
    "%matplotlib inline"
   ]
  },
  {
   "cell_type": "code",
   "execution_count": 2,
   "id": "0d2dbe2b-4b3c-49e3-87a9-c215995f097b",
   "metadata": {},
   "outputs": [
    {
     "name": "stderr",
     "output_type": "stream",
     "text": [
      "C:\\Users\\Setup\\AppData\\Local\\Temp\\ipykernel_17156\\3662695910.py:1: FutureWarning: The error_bad_lines argument has been deprecated and will be removed in a future version. Use on_bad_lines in the future.\n",
      "\n",
      "\n",
      "  crimes1 = pd.read_csv('Chicago_Crimes_2008_to_2011.csv',error_bad_lines=False)\n",
      "b'Skipping line 1149094: expected 23 fields, saw 41\\n'\n",
      "C:\\Users\\Setup\\AppData\\Local\\Temp\\ipykernel_17156\\3662695910.py:2: FutureWarning: The error_bad_lines argument has been deprecated and will be removed in a future version. Use on_bad_lines in the future.\n",
      "\n",
      "\n",
      "  crimes2 = pd.read_csv('Chicago_Crimes_2012_to_2017.csv',error_bad_lines=False)\n"
     ]
    }
   ],
   "source": [
    "crimes1 = pd.read_csv('Chicago_Crimes_2008_to_2011.csv',error_bad_lines=False)\n",
    "crimes2 = pd.read_csv('Chicago_Crimes_2012_to_2017.csv',error_bad_lines=False)"
   ]
  },
  {
   "cell_type": "markdown",
   "id": "68471b10-a144-4a37-a2be-ff3a6780c890",
   "metadata": {},
   "source": [
    "I'm going to combine the 2 files into 1 then delete the orignal ones afterwards to save memory."
   ]
  },
  {
   "cell_type": "code",
   "execution_count": 3,
   "id": "b209884d-bba0-4373-80ec-c2a13f651381",
   "metadata": {},
   "outputs": [],
   "source": [
    "crimes = pd.concat([crimes1, crimes2], ignore_index=False,axis=0)\n",
    "del crimes1\n",
    "del crimes2"
   ]
  },
  {
   "cell_type": "code",
   "execution_count": 4,
   "id": "d1f93279-a0b6-4935-997f-e2d645092490",
   "metadata": {},
   "outputs": [
    {
     "data": {
      "text/html": [
       "<div>\n",
       "<style scoped>\n",
       "    .dataframe tbody tr th:only-of-type {\n",
       "        vertical-align: middle;\n",
       "    }\n",
       "\n",
       "    .dataframe tbody tr th {\n",
       "        vertical-align: top;\n",
       "    }\n",
       "\n",
       "    .dataframe thead th {\n",
       "        text-align: right;\n",
       "    }\n",
       "</style>\n",
       "<table border=\"1\" class=\"dataframe\">\n",
       "  <thead>\n",
       "    <tr style=\"text-align: right;\">\n",
       "      <th></th>\n",
       "      <th>Unnamed: 0</th>\n",
       "      <th>ID</th>\n",
       "      <th>Case Number</th>\n",
       "      <th>Date</th>\n",
       "      <th>Block</th>\n",
       "      <th>IUCR</th>\n",
       "      <th>Primary Type</th>\n",
       "      <th>Description</th>\n",
       "      <th>Location Description</th>\n",
       "      <th>Arrest</th>\n",
       "      <th>...</th>\n",
       "      <th>Ward</th>\n",
       "      <th>Community Area</th>\n",
       "      <th>FBI Code</th>\n",
       "      <th>X Coordinate</th>\n",
       "      <th>Y Coordinate</th>\n",
       "      <th>Year</th>\n",
       "      <th>Updated On</th>\n",
       "      <th>Latitude</th>\n",
       "      <th>Longitude</th>\n",
       "      <th>Location</th>\n",
       "    </tr>\n",
       "  </thead>\n",
       "  <tbody>\n",
       "    <tr>\n",
       "      <th>0</th>\n",
       "      <td>388</td>\n",
       "      <td>4785</td>\n",
       "      <td>HP610824</td>\n",
       "      <td>10/07/2008 12:39:00 PM</td>\n",
       "      <td>000XX E 75TH ST</td>\n",
       "      <td>0110</td>\n",
       "      <td>HOMICIDE</td>\n",
       "      <td>FIRST DEGREE MURDER</td>\n",
       "      <td>ALLEY</td>\n",
       "      <td>True</td>\n",
       "      <td>...</td>\n",
       "      <td>6.0</td>\n",
       "      <td>69.0</td>\n",
       "      <td>01A</td>\n",
       "      <td>1178207.0</td>\n",
       "      <td>1855308.0</td>\n",
       "      <td>2008</td>\n",
       "      <td>08/17/2015 03:03:40 PM</td>\n",
       "      <td>41.758276</td>\n",
       "      <td>-87.622451</td>\n",
       "      <td>(41.758275857, -87.622451031)</td>\n",
       "    </tr>\n",
       "    <tr>\n",
       "      <th>1</th>\n",
       "      <td>835</td>\n",
       "      <td>4786</td>\n",
       "      <td>HP616595</td>\n",
       "      <td>10/09/2008 03:30:00 AM</td>\n",
       "      <td>048XX W POLK ST</td>\n",
       "      <td>0110</td>\n",
       "      <td>HOMICIDE</td>\n",
       "      <td>FIRST DEGREE MURDER</td>\n",
       "      <td>STREET</td>\n",
       "      <td>True</td>\n",
       "      <td>...</td>\n",
       "      <td>24.0</td>\n",
       "      <td>25.0</td>\n",
       "      <td>01A</td>\n",
       "      <td>1144200.0</td>\n",
       "      <td>1895857.0</td>\n",
       "      <td>2008</td>\n",
       "      <td>08/17/2015 03:03:40 PM</td>\n",
       "      <td>41.870252</td>\n",
       "      <td>-87.746069</td>\n",
       "      <td>(41.87025207, -87.746069362)</td>\n",
       "    </tr>\n",
       "    <tr>\n",
       "      <th>2</th>\n",
       "      <td>1334</td>\n",
       "      <td>4787</td>\n",
       "      <td>HP616904</td>\n",
       "      <td>10/09/2008 08:35:00 AM</td>\n",
       "      <td>030XX W MANN DR</td>\n",
       "      <td>0110</td>\n",
       "      <td>HOMICIDE</td>\n",
       "      <td>FIRST DEGREE MURDER</td>\n",
       "      <td>PARK PROPERTY</td>\n",
       "      <td>False</td>\n",
       "      <td>...</td>\n",
       "      <td>18.0</td>\n",
       "      <td>66.0</td>\n",
       "      <td>01A</td>\n",
       "      <td>1157314.0</td>\n",
       "      <td>1859778.0</td>\n",
       "      <td>2008</td>\n",
       "      <td>08/17/2015 03:03:40 PM</td>\n",
       "      <td>41.770990</td>\n",
       "      <td>-87.698901</td>\n",
       "      <td>(41.770990476, -87.698901469)</td>\n",
       "    </tr>\n",
       "    <tr>\n",
       "      <th>3</th>\n",
       "      <td>1907</td>\n",
       "      <td>4788</td>\n",
       "      <td>HP618616</td>\n",
       "      <td>10/10/2008 02:33:00 AM</td>\n",
       "      <td>052XX W CHICAGO AVE</td>\n",
       "      <td>0110</td>\n",
       "      <td>HOMICIDE</td>\n",
       "      <td>FIRST DEGREE MURDER</td>\n",
       "      <td>RESTAURANT</td>\n",
       "      <td>False</td>\n",
       "      <td>...</td>\n",
       "      <td>37.0</td>\n",
       "      <td>25.0</td>\n",
       "      <td>01A</td>\n",
       "      <td>1141065.0</td>\n",
       "      <td>1904824.0</td>\n",
       "      <td>2008</td>\n",
       "      <td>08/17/2015 03:03:40 PM</td>\n",
       "      <td>41.894917</td>\n",
       "      <td>-87.757358</td>\n",
       "      <td>(41.894916924, -87.757358147)</td>\n",
       "    </tr>\n",
       "    <tr>\n",
       "      <th>4</th>\n",
       "      <td>2436</td>\n",
       "      <td>4789</td>\n",
       "      <td>HP619020</td>\n",
       "      <td>10/10/2008 12:50:00 PM</td>\n",
       "      <td>026XX S HOMAN AVE</td>\n",
       "      <td>0110</td>\n",
       "      <td>HOMICIDE</td>\n",
       "      <td>FIRST DEGREE MURDER</td>\n",
       "      <td>GARAGE</td>\n",
       "      <td>False</td>\n",
       "      <td>...</td>\n",
       "      <td>22.0</td>\n",
       "      <td>30.0</td>\n",
       "      <td>01A</td>\n",
       "      <td>1154123.0</td>\n",
       "      <td>1886297.0</td>\n",
       "      <td>2008</td>\n",
       "      <td>08/17/2015 03:03:40 PM</td>\n",
       "      <td>41.843826</td>\n",
       "      <td>-87.709893</td>\n",
       "      <td>(41.843826272, -87.709893465)</td>\n",
       "    </tr>\n",
       "  </tbody>\n",
       "</table>\n",
       "<p>5 rows × 23 columns</p>\n",
       "</div>"
      ],
      "text/plain": [
       "   Unnamed: 0    ID Case Number                    Date                Block  \\\n",
       "0         388  4785    HP610824  10/07/2008 12:39:00 PM      000XX E 75TH ST   \n",
       "1         835  4786    HP616595  10/09/2008 03:30:00 AM      048XX W POLK ST   \n",
       "2        1334  4787    HP616904  10/09/2008 08:35:00 AM      030XX W MANN DR   \n",
       "3        1907  4788    HP618616  10/10/2008 02:33:00 AM  052XX W CHICAGO AVE   \n",
       "4        2436  4789    HP619020  10/10/2008 12:50:00 PM    026XX S HOMAN AVE   \n",
       "\n",
       "   IUCR Primary Type          Description Location Description  Arrest  ...  \\\n",
       "0  0110     HOMICIDE  FIRST DEGREE MURDER                ALLEY    True  ...   \n",
       "1  0110     HOMICIDE  FIRST DEGREE MURDER               STREET    True  ...   \n",
       "2  0110     HOMICIDE  FIRST DEGREE MURDER        PARK PROPERTY   False  ...   \n",
       "3  0110     HOMICIDE  FIRST DEGREE MURDER           RESTAURANT   False  ...   \n",
       "4  0110     HOMICIDE  FIRST DEGREE MURDER               GARAGE   False  ...   \n",
       "\n",
       "   Ward  Community Area  FBI Code  X Coordinate  Y Coordinate  Year  \\\n",
       "0   6.0            69.0       01A     1178207.0     1855308.0  2008   \n",
       "1  24.0            25.0       01A     1144200.0     1895857.0  2008   \n",
       "2  18.0            66.0       01A     1157314.0     1859778.0  2008   \n",
       "3  37.0            25.0       01A     1141065.0     1904824.0  2008   \n",
       "4  22.0            30.0       01A     1154123.0     1886297.0  2008   \n",
       "\n",
       "               Updated On   Latitude  Longitude                       Location  \n",
       "0  08/17/2015 03:03:40 PM  41.758276 -87.622451  (41.758275857, -87.622451031)  \n",
       "1  08/17/2015 03:03:40 PM  41.870252 -87.746069   (41.87025207, -87.746069362)  \n",
       "2  08/17/2015 03:03:40 PM  41.770990 -87.698901  (41.770990476, -87.698901469)  \n",
       "3  08/17/2015 03:03:40 PM  41.894917 -87.757358  (41.894916924, -87.757358147)  \n",
       "4  08/17/2015 03:03:40 PM  41.843826 -87.709893  (41.843826272, -87.709893465)  \n",
       "\n",
       "[5 rows x 23 columns]"
      ]
     },
     "execution_count": 4,
     "metadata": {},
     "output_type": "execute_result"
    }
   ],
   "source": [
    "crimes.head()"
   ]
  },
  {
   "cell_type": "markdown",
   "id": "bbc312b8-5eed-4303-9420-990b7a8cd7a0",
   "metadata": {},
   "source": [
    "There are some duplicates and null values so I'm going to drop them."
   ]
  },
  {
   "cell_type": "code",
   "execution_count": 5,
   "id": "4d353084-8fed-4bff-a056-8b443260f0cb",
   "metadata": {},
   "outputs": [],
   "source": [
    "crimes = crimes.dropna()\n",
    "crimes = crimes.drop_duplicates()"
   ]
  },
  {
   "cell_type": "markdown",
   "id": "30b8f243-410c-40e6-8a0b-376dc707464d",
   "metadata": {},
   "source": [
    "This dataset is so big that it's taking a lot of processing time so I'm dropping these columns that I'm not going to use."
   ]
  },
  {
   "cell_type": "code",
   "execution_count": 6,
   "id": "a3303b3e-fb24-46a0-9c4b-e2e2a90a33c9",
   "metadata": {},
   "outputs": [],
   "source": [
    "crimes.drop(['Unnamed: 0', 'Case Number', 'ID', 'IUCR', 'X Coordinate', 'Y Coordinate', 'Location'], inplace=True, axis=1)"
   ]
  },
  {
   "cell_type": "markdown",
   "id": "6c5622de-e637-416c-a8a2-cb18abc81ebc",
   "metadata": {},
   "source": [
    "Convert dates to pandas datetime format."
   ]
  },
  {
   "cell_type": "code",
   "execution_count": 7,
   "id": "9e04cdbc-a5ec-4c41-a66c-3baf5843da57",
   "metadata": {},
   "outputs": [
    {
     "data": {
      "text/html": [
       "<div>\n",
       "<style scoped>\n",
       "    .dataframe tbody tr th:only-of-type {\n",
       "        vertical-align: middle;\n",
       "    }\n",
       "\n",
       "    .dataframe tbody tr th {\n",
       "        vertical-align: top;\n",
       "    }\n",
       "\n",
       "    .dataframe thead th {\n",
       "        text-align: right;\n",
       "    }\n",
       "</style>\n",
       "<table border=\"1\" class=\"dataframe\">\n",
       "  <thead>\n",
       "    <tr style=\"text-align: right;\">\n",
       "      <th></th>\n",
       "      <th>Block</th>\n",
       "      <th>Primary Type</th>\n",
       "      <th>Description</th>\n",
       "      <th>Location Description</th>\n",
       "      <th>Arrest</th>\n",
       "      <th>Domestic</th>\n",
       "      <th>Beat</th>\n",
       "      <th>District</th>\n",
       "      <th>Ward</th>\n",
       "      <th>Community Area</th>\n",
       "      <th>FBI Code</th>\n",
       "      <th>Year</th>\n",
       "      <th>Latitude</th>\n",
       "      <th>Longitude</th>\n",
       "      <th>Month</th>\n",
       "      <th>Day</th>\n",
       "      <th>Hour</th>\n",
       "      <th>Minute</th>\n",
       "      <th>Second</th>\n",
       "    </tr>\n",
       "  </thead>\n",
       "  <tbody>\n",
       "    <tr>\n",
       "      <th>0</th>\n",
       "      <td>000XX E 75TH ST</td>\n",
       "      <td>HOMICIDE</td>\n",
       "      <td>FIRST DEGREE MURDER</td>\n",
       "      <td>ALLEY</td>\n",
       "      <td>True</td>\n",
       "      <td>False</td>\n",
       "      <td>323</td>\n",
       "      <td>3.0</td>\n",
       "      <td>6.0</td>\n",
       "      <td>69.0</td>\n",
       "      <td>01A</td>\n",
       "      <td>2008</td>\n",
       "      <td>41.758276</td>\n",
       "      <td>-87.622451</td>\n",
       "      <td>10</td>\n",
       "      <td>7</td>\n",
       "      <td>12</td>\n",
       "      <td>39</td>\n",
       "      <td>0</td>\n",
       "    </tr>\n",
       "    <tr>\n",
       "      <th>1</th>\n",
       "      <td>048XX W POLK ST</td>\n",
       "      <td>HOMICIDE</td>\n",
       "      <td>FIRST DEGREE MURDER</td>\n",
       "      <td>STREET</td>\n",
       "      <td>True</td>\n",
       "      <td>False</td>\n",
       "      <td>1533</td>\n",
       "      <td>15.0</td>\n",
       "      <td>24.0</td>\n",
       "      <td>25.0</td>\n",
       "      <td>01A</td>\n",
       "      <td>2008</td>\n",
       "      <td>41.870252</td>\n",
       "      <td>-87.746069</td>\n",
       "      <td>10</td>\n",
       "      <td>9</td>\n",
       "      <td>3</td>\n",
       "      <td>30</td>\n",
       "      <td>0</td>\n",
       "    </tr>\n",
       "    <tr>\n",
       "      <th>2</th>\n",
       "      <td>030XX W MANN DR</td>\n",
       "      <td>HOMICIDE</td>\n",
       "      <td>FIRST DEGREE MURDER</td>\n",
       "      <td>PARK PROPERTY</td>\n",
       "      <td>False</td>\n",
       "      <td>False</td>\n",
       "      <td>831</td>\n",
       "      <td>8.0</td>\n",
       "      <td>18.0</td>\n",
       "      <td>66.0</td>\n",
       "      <td>01A</td>\n",
       "      <td>2008</td>\n",
       "      <td>41.770990</td>\n",
       "      <td>-87.698901</td>\n",
       "      <td>10</td>\n",
       "      <td>9</td>\n",
       "      <td>8</td>\n",
       "      <td>35</td>\n",
       "      <td>0</td>\n",
       "    </tr>\n",
       "    <tr>\n",
       "      <th>3</th>\n",
       "      <td>052XX W CHICAGO AVE</td>\n",
       "      <td>HOMICIDE</td>\n",
       "      <td>FIRST DEGREE MURDER</td>\n",
       "      <td>RESTAURANT</td>\n",
       "      <td>False</td>\n",
       "      <td>False</td>\n",
       "      <td>1524</td>\n",
       "      <td>15.0</td>\n",
       "      <td>37.0</td>\n",
       "      <td>25.0</td>\n",
       "      <td>01A</td>\n",
       "      <td>2008</td>\n",
       "      <td>41.894917</td>\n",
       "      <td>-87.757358</td>\n",
       "      <td>10</td>\n",
       "      <td>10</td>\n",
       "      <td>2</td>\n",
       "      <td>33</td>\n",
       "      <td>0</td>\n",
       "    </tr>\n",
       "    <tr>\n",
       "      <th>4</th>\n",
       "      <td>026XX S HOMAN AVE</td>\n",
       "      <td>HOMICIDE</td>\n",
       "      <td>FIRST DEGREE MURDER</td>\n",
       "      <td>GARAGE</td>\n",
       "      <td>False</td>\n",
       "      <td>True</td>\n",
       "      <td>1032</td>\n",
       "      <td>10.0</td>\n",
       "      <td>22.0</td>\n",
       "      <td>30.0</td>\n",
       "      <td>01A</td>\n",
       "      <td>2008</td>\n",
       "      <td>41.843826</td>\n",
       "      <td>-87.709893</td>\n",
       "      <td>10</td>\n",
       "      <td>10</td>\n",
       "      <td>12</td>\n",
       "      <td>50</td>\n",
       "      <td>0</td>\n",
       "    </tr>\n",
       "  </tbody>\n",
       "</table>\n",
       "</div>"
      ],
      "text/plain": [
       "                 Block Primary Type          Description Location Description  \\\n",
       "0      000XX E 75TH ST     HOMICIDE  FIRST DEGREE MURDER                ALLEY   \n",
       "1      048XX W POLK ST     HOMICIDE  FIRST DEGREE MURDER               STREET   \n",
       "2      030XX W MANN DR     HOMICIDE  FIRST DEGREE MURDER        PARK PROPERTY   \n",
       "3  052XX W CHICAGO AVE     HOMICIDE  FIRST DEGREE MURDER           RESTAURANT   \n",
       "4    026XX S HOMAN AVE     HOMICIDE  FIRST DEGREE MURDER               GARAGE   \n",
       "\n",
       "   Arrest  Domestic  Beat  District  Ward  Community Area FBI Code  Year  \\\n",
       "0    True     False   323       3.0   6.0            69.0      01A  2008   \n",
       "1    True     False  1533      15.0  24.0            25.0      01A  2008   \n",
       "2   False     False   831       8.0  18.0            66.0      01A  2008   \n",
       "3   False     False  1524      15.0  37.0            25.0      01A  2008   \n",
       "4   False      True  1032      10.0  22.0            30.0      01A  2008   \n",
       "\n",
       "    Latitude  Longitude  Month  Day  Hour  Minute  Second  \n",
       "0  41.758276 -87.622451     10    7    12      39       0  \n",
       "1  41.870252 -87.746069     10    9     3      30       0  \n",
       "2  41.770990 -87.698901     10    9     8      35       0  \n",
       "3  41.894917 -87.757358     10   10     2      33       0  \n",
       "4  41.843826 -87.709893     10   10    12      50       0  "
      ]
     },
     "execution_count": 7,
     "metadata": {},
     "output_type": "execute_result"
    }
   ],
   "source": [
    "crimes['date2'] = pd.to_datetime(crimes['Date'])\n",
    "crimes['Year'] = crimes['date2'].dt.year\n",
    "crimes['Month'] = crimes['date2'].dt.month\n",
    "crimes['Day'] = crimes['date2'].dt.day\n",
    "crimes['Hour'] = crimes['date2'].dt.hour\n",
    "crimes['Minute'] = crimes['date2'].dt.minute\n",
    "crimes['Second'] = crimes['date2'].dt.second \n",
    "crimes = crimes.drop(['Date'], axis=1) \n",
    "crimes = crimes.drop(['date2'], axis=1) \n",
    "crimes = crimes.drop(['Updated On'], axis=1)\n",
    "crimes.head()"
   ]
  },
  {
   "cell_type": "code",
   "execution_count": 8,
   "id": "025cae8c-f02a-4ee6-9fa1-4503ee895c04",
   "metadata": {},
   "outputs": [
    {
     "name": "stdout",
     "output_type": "stream",
     "text": [
      "<class 'pandas.core.frame.DataFrame'>\n",
      "Int64Index: 2942864 entries, 0 to 1456713\n",
      "Data columns (total 19 columns):\n",
      " #   Column                Dtype  \n",
      "---  ------                -----  \n",
      " 0   Block                 object \n",
      " 1   Primary Type          object \n",
      " 2   Description           object \n",
      " 3   Location Description  object \n",
      " 4   Arrest                bool   \n",
      " 5   Domestic              bool   \n",
      " 6   Beat                  int64  \n",
      " 7   District              float64\n",
      " 8   Ward                  float64\n",
      " 9   Community Area        float64\n",
      " 10  FBI Code              object \n",
      " 11  Year                  int64  \n",
      " 12  Latitude              float64\n",
      " 13  Longitude             float64\n",
      " 14  Month                 int64  \n",
      " 15  Day                   int64  \n",
      " 16  Hour                  int64  \n",
      " 17  Minute                int64  \n",
      " 18  Second                int64  \n",
      "dtypes: bool(2), float64(5), int64(7), object(5)\n",
      "memory usage: 409.8+ MB\n"
     ]
    }
   ],
   "source": [
    "crimes.info()"
   ]
  },
  {
   "cell_type": "markdown",
   "id": "eb2ce803-b0a8-4666-90b6-85ea16fd6464",
   "metadata": {},
   "source": [
    "The memory usage is 409.8+ MB. I had to make a subset because my computer keep having problem memory problem running such a big file."
   ]
  },
  {
   "cell_type": "code",
   "execution_count": 9,
   "id": "62f6e783-f42e-40b4-bf22-fee791a11a91",
   "metadata": {},
   "outputs": [],
   "source": [
    "crimes = crimes.sample(n=500000)"
   ]
  },
  {
   "cell_type": "code",
   "execution_count": 10,
   "id": "1d8d47b2-ecbd-412d-886a-fa37e47a2907",
   "metadata": {},
   "outputs": [
    {
     "data": {
      "text/plain": [
       "array(['DECEPTIVE PRACTICE', 'CRIMINAL DAMAGE', 'THEFT', 'BATTERY',\n",
       "       'OTHER OFFENSE', 'ROBBERY', 'NARCOTICS', 'MOTOR VEHICLE THEFT',\n",
       "       'BURGLARY', 'GAMBLING', 'CRIMINAL TRESPASS', 'ASSAULT',\n",
       "       'CRIM SEXUAL ASSAULT', 'PROSTITUTION',\n",
       "       'OFFENSE INVOLVING CHILDREN', 'PUBLIC PEACE VIOLATION',\n",
       "       'WEAPONS VIOLATION', 'LIQUOR LAW VIOLATION', 'ARSON', 'HOMICIDE',\n",
       "       'SEX OFFENSE', 'KIDNAPPING', 'INTERFERENCE WITH PUBLIC OFFICER',\n",
       "       'STALKING', 'INTIMIDATION', 'CONCEALED CARRY LICENSE VIOLATION',\n",
       "       'PUBLIC INDECENCY', 'OTHER NARCOTIC VIOLATION', 'OBSCENITY',\n",
       "       'NON-CRIMINAL', 'NON - CRIMINAL',\n",
       "       'NON-CRIMINAL (SUBJECT SPECIFIED)', 'HUMAN TRAFFICKING'],\n",
       "      dtype=object)"
      ]
     },
     "execution_count": 10,
     "metadata": {},
     "output_type": "execute_result"
    }
   ],
   "source": [
    "classes = crimes['Primary Type'].unique()\n",
    "classes"
   ]
  },
  {
   "cell_type": "markdown",
   "id": "7805d007-a72b-445f-9453-a4d87bd2cc6d",
   "metadata": {},
   "source": [
    "I'm going to eliminate none criminal crimes because I'm not interested in them."
   ]
  },
  {
   "cell_type": "code",
   "execution_count": 11,
   "id": "e54952e6-2f0d-4d28-80f5-ba3fe279a9e0",
   "metadata": {},
   "outputs": [],
   "source": [
    "crimes.drop(crimes.index [crimes[ 'Primary Type' ] == 'PUBLIC INDECENCY' ] , inplace = True)\n",
    "crimes.drop(crimes.index [crimes[ 'Primary Type' ] == 'NON-CRIMINAL (SUBJECT SPECIFIED)' ] , inplace = True)\n",
    "crimes.drop(crimes.index [crimes[ 'Primary Type' ] == 'NON-CRIMINAL' ] , inplace = True)\n",
    "crimes.drop(crimes.index [crimes[ 'Primary Type' ] == 'NON - CRIMINAL' ] , inplace = True)\n",
    "crimes.drop(crimes.index [crimes[ 'Primary Type' ] == 'OBSCENITY' ] , inplace = True)\n",
    "crimes.drop(crimes.index [crimes[ 'Primary Type' ] == 'CONCEALED CARRY LICENSE VIOLATION' ] , inplace = True)"
   ]
  },
  {
   "cell_type": "markdown",
   "id": "9baddc08-34f4-4dbe-8c57-26b8e3f37d78",
   "metadata": {},
   "source": [
    "Then I'm going to group similar crimes together."
   ]
  },
  {
   "cell_type": "code",
   "execution_count": 12,
   "id": "17acbca2-7bd1-47da-af89-42be022bf90e",
   "metadata": {},
   "outputs": [],
   "source": [
    "crimes_condition = [(crimes['Primary Type'] == 'MOTOR VEHICLE THEFT'),\n",
    "                (crimes['Primary Type'] == 'THEFT'),\n",
    "                (crimes['Primary Type'] == 'ROBBERY'),\n",
    "                (crimes['Primary Type'] == 'BURGLARY'),\n",
    "                (crimes['Primary Type'] == 'ASSAULT'),\n",
    "                (crimes['Primary Type'] == 'PROSTITUTION'),\n",
    "                (crimes['Primary Type'] == 'BATTERY'),\n",
    "                (crimes['Primary Type'] == 'CRIM SEXUAL ASSAULT'),\n",
    "                (crimes['Primary Type'] == 'SEX OFFENSE'),\n",
    "                (crimes['Primary Type'] == 'INTIMIDATION'),\n",
    "                (crimes['Primary Type'] == 'STALKING'),\n",
    "                (crimes['Primary Type'] == 'ARSON'),\n",
    "                (crimes['Primary Type'] == 'KIDNAPPING'),\n",
    "                (crimes['Primary Type'] == 'OFFENSE INVOLVING CHILDREN'),\n",
    "                (crimes['Primary Type'] =='PUBLIC PEACE VIOLATION'),\n",
    "                (crimes['Primary Type'] == 'OTHER NARCOTIC VIOLATION'),\n",
    "                (crimes['Primary Type'] == 'NARCOTICS'),\n",
    "                (crimes['Primary Type'] == 'LIQUOR LAW VIOLATION'),\n",
    "                (crimes['Primary Type'] == 'CRIMINAL DAMAGE'),\n",
    "                (crimes['Primary Type'] == 'HUMAN TRAFFICKING'),\n",
    "                (crimes['Primary Type'] == 'WEAPONS VIOLATION'),\n",
    "                (crimes['Primary Type'] == 'INTERFERENCE WITH PUBLIC OFFICER'),\n",
    "                (crimes['Primary Type'] == 'CRIMINAL TRESPASS'),\n",
    "                (crimes['Primary Type'] == 'HOMICIDE'),\n",
    "                (crimes['Primary Type'] == 'DECEPTIVE PRACTICE'),\n",
    "                (crimes['Primary Type'] == 'OTHER OFFENSE'),\n",
    "                (crimes['Primary Type'] == 'GAMBLING'\n",
    "                )\n",
    "               ]\n",
    "crimes_categ = ['THEFT', 'THEFT', 'THEFT','THEFT', \n",
    "            'ASSAULT' , 'ASSAULT' , 'ASSAULT' , 'ASSAULT', 'ASSAULT','ASSAULT','ASSAULT','ASSAULT','ASSAULT','ASSAULT', 'ASSAULT',\n",
    "            'NARCOTICS', 'NARCOTICS', 'NARCOTICS',\n",
    "            'CRIMINAL DAMAGE','CRIMINAL DAMAGE','CRIMINAL DAMAGE', 'CRIMINAL DAMAGE', 'CRIMINAL DAMAGE',\n",
    "            'OTHER OFFENSE','OTHER OFFENSE','OTHER OFFENSE', 'OTHER OFFENSE']\n",
    "crimes['Type'] = np.select(crimes_condition , crimes_categ)"
   ]
  },
  {
   "cell_type": "markdown",
   "id": "db7b478b-0250-4a6e-a2b0-15cc073cd5ed",
   "metadata": {},
   "source": [
    "I want to make some data visualization before asking my questions."
   ]
  },
  {
   "cell_type": "code",
   "execution_count": 13,
   "id": "4ebc8121-137b-4324-aa35-13d3d79c6b3a",
   "metadata": {},
   "outputs": [
    {
     "data": {
      "text/plain": [
       "<matplotlib.axes._subplots.AxesSubplot at 0x283b19881f0>"
      ]
     },
     "execution_count": 13,
     "metadata": {},
     "output_type": "execute_result"
    },
    {
     "data": {
      "image/png": "[encoded data removed]",
      "text/plain": [
       "<Figure size 1080x720 with 1 Axes>"
      ]
     },
     "metadata": {
      "needs_background": "light"
     },
     "output_type": "display_data"
    }
   ],
   "source": [
    "plt.figure(figsize = (15, 10))\n",
    "sns.countplot(y= 'Primary Type', data = crimes, order = crimes['Primary Type'].value_counts().iloc[:15].index)"
   ]
  },
  {
   "cell_type": "code",
   "execution_count": 14,
   "id": "988e03ba-3730-4935-9df8-2fd63647148f",
   "metadata": {},
   "outputs": [
    {
     "data": {
      "text/plain": [
       "<matplotlib.axes._subplots.AxesSubplot at 0x283f08e4580>"
      ]
     },
     "execution_count": 14,
     "metadata": {},
     "output_type": "execute_result"
    },
    {
     "data": {
      "image/png": "[encoded data removed]",
      "text/plain": [
       "<Figure size 1080x720 with 1 Axes>"
      ]
     },
     "metadata": {
      "needs_background": "light"
     },
     "output_type": "display_data"
    }
   ],
   "source": [
    "plt.figure(figsize = (15, 10))\n",
    "sns.countplot(y= 'Type', data = crimes, order = crimes['Type'].value_counts().iloc[:15].index)"
   ]
  },
  {
   "cell_type": "code",
   "execution_count": 15,
   "id": "5475d54c-01bb-4f7a-91bc-d28bbbf5a353",
   "metadata": {},
   "outputs": [
    {
     "data": {
      "text/plain": [
       "<matplotlib.axes._subplots.AxesSubplot at 0x283f09921c0>"
      ]
     },
     "execution_count": 15,
     "metadata": {},
     "output_type": "execute_result"
    },
    {
     "data": {
      "image/png": "[encoded data removed]",
      "text/plain": [
       "<Figure size 1080x720 with 1 Axes>"
      ]
     },
     "metadata": {
      "needs_background": "light"
     },
     "output_type": "display_data"
    }
   ],
   "source": [
    "plt.figure(figsize = (15, 10))\n",
    "sns.countplot(y= 'Location Description', data = crimes, order = crimes['Location Description'].value_counts().iloc[:15].index)"
   ]
  },
  {
   "cell_type": "markdown",
   "id": "34f0c20a-0d5f-46be-a85d-157ba48270c3",
   "metadata": {},
   "source": [
    "My questions are:\n",
    "Can I predict type of crime based on location and month?\n",
    "Can I predict type of crime based on arrest, location description, and month?\n",
    "Can I predict if someone would get arrested or not based on type of crime and location description?"
   ]
  },
  {
   "cell_type": "markdown",
   "id": "a87ec77a-9122-49e9-b2f8-e61721e2bcfb",
   "metadata": {},
   "source": [
    "First, I'm converting categorical columns into numerical columns."
   ]
  },
  {
   "cell_type": "code",
   "execution_count": 16,
   "id": "6a91144c-6ce7-4a3f-be2c-fb1fb902a396",
   "metadata": {},
   "outputs": [
    {
     "data": {
      "text/plain": [
       "array([0, 1, 2, 3, 4], dtype=int64)"
      ]
     },
     "execution_count": 16,
     "metadata": {},
     "output_type": "execute_result"
    }
   ],
   "source": [
    "crimes['Type'] = pd.factorize(crimes[\"Type\"])[0] \n",
    "crimes['Type'].unique()"
   ]
  },
  {
   "cell_type": "code",
   "execution_count": 17,
   "id": "e3a4b97e-98df-49f5-8a9b-f8a7f8e3e3ba",
   "metadata": {},
   "outputs": [
    {
     "data": {
      "text/plain": [
       "array([ 0,  1,  2,  3,  4,  5,  6,  7,  8,  9, 10, 11, 12, 13, 14, 15, 16,\n",
       "       17, 18, 19, 20, 21, 22, 23, 24, 25, 26, 27, 28, 29, 30, 31, 32, 33,\n",
       "       34, 35, 36, 37, 38, 39, 40, 41, 42, 43, 44, 45, 46, 47, 48, 49, 50,\n",
       "       51, 52, 53, 54, 55, 56, 57, 58, 59], dtype=int64)"
      ]
     },
     "execution_count": 17,
     "metadata": {},
     "output_type": "execute_result"
    }
   ],
   "source": [
    "crimes['Minute'] = pd.factorize(crimes[\"Minute\"])[0] \n",
    "crimes['Minute'].unique()"
   ]
  },
  {
   "cell_type": "code",
   "execution_count": 18,
   "id": "f85dd1c1-eb5a-4c01-9de6-ea72a3ed754e",
   "metadata": {},
   "outputs": [
    {
     "data": {
      "text/plain": [
       "array([     0,      1,      2, ..., 220033, 220034, 220035], dtype=int64)"
      ]
     },
     "execution_count": 18,
     "metadata": {},
     "output_type": "execute_result"
    }
   ],
   "source": [
    "crimes['Longitude'] = pd.factorize(crimes[\"Longitude\"])[0] \n",
    "crimes['Longitude'].unique()\n",
    "crimes['Latitude'] = pd.factorize(crimes[\"Latitude\"])[0] \n",
    "crimes['Latitude'].unique()"
   ]
  },
  {
   "cell_type": "code",
   "execution_count": 19,
   "id": "ea30627c-ed69-4175-8011-833d6feafc7d",
   "metadata": {},
   "outputs": [
    {
     "data": {
      "text/html": [
       "<div>\n",
       "<style scoped>\n",
       "    .dataframe tbody tr th:only-of-type {\n",
       "        vertical-align: middle;\n",
       "    }\n",
       "\n",
       "    .dataframe tbody tr th {\n",
       "        vertical-align: top;\n",
       "    }\n",
       "\n",
       "    .dataframe thead th {\n",
       "        text-align: right;\n",
       "    }\n",
       "</style>\n",
       "<table border=\"1\" class=\"dataframe\">\n",
       "  <thead>\n",
       "    <tr style=\"text-align: right;\">\n",
       "      <th></th>\n",
       "      <th>Block</th>\n",
       "      <th>Primary Type</th>\n",
       "      <th>Description</th>\n",
       "      <th>Location Description</th>\n",
       "      <th>Arrest</th>\n",
       "      <th>Domestic</th>\n",
       "      <th>Beat</th>\n",
       "      <th>District</th>\n",
       "      <th>Ward</th>\n",
       "      <th>Community Area</th>\n",
       "      <th>FBI Code</th>\n",
       "      <th>Year</th>\n",
       "      <th>Latitude</th>\n",
       "      <th>Longitude</th>\n",
       "      <th>Month</th>\n",
       "      <th>Day</th>\n",
       "      <th>Hour</th>\n",
       "      <th>Minute</th>\n",
       "      <th>Second</th>\n",
       "      <th>Type</th>\n",
       "    </tr>\n",
       "  </thead>\n",
       "  <tbody>\n",
       "    <tr>\n",
       "      <th>1351495</th>\n",
       "      <td>026XX N MILWAUKEE AVE</td>\n",
       "      <td>DECEPTIVE PRACTICE</td>\n",
       "      <td>ILLEGAL USE CASH CARD</td>\n",
       "      <td>BAR OR TAVERN</td>\n",
       "      <td>False</td>\n",
       "      <td>False</td>\n",
       "      <td>1412</td>\n",
       "      <td>14.0</td>\n",
       "      <td>35.0</td>\n",
       "      <td>22.0</td>\n",
       "      <td>11</td>\n",
       "      <td>2016</td>\n",
       "      <td>0</td>\n",
       "      <td>0</td>\n",
       "      <td>8</td>\n",
       "      <td>29</td>\n",
       "      <td>2</td>\n",
       "      <td>0</td>\n",
       "      <td>0</td>\n",
       "      <td>0</td>\n",
       "    </tr>\n",
       "    <tr>\n",
       "      <th>460083</th>\n",
       "      <td>031XX S GREEN ST</td>\n",
       "      <td>CRIMINAL DAMAGE</td>\n",
       "      <td>TO STATE SUP PROP</td>\n",
       "      <td>CHA APARTMENT</td>\n",
       "      <td>False</td>\n",
       "      <td>False</td>\n",
       "      <td>913</td>\n",
       "      <td>9.0</td>\n",
       "      <td>11.0</td>\n",
       "      <td>60.0</td>\n",
       "      <td>14</td>\n",
       "      <td>2013</td>\n",
       "      <td>1</td>\n",
       "      <td>1</td>\n",
       "      <td>3</td>\n",
       "      <td>9</td>\n",
       "      <td>2</td>\n",
       "      <td>1</td>\n",
       "      <td>0</td>\n",
       "      <td>1</td>\n",
       "    </tr>\n",
       "    <tr>\n",
       "      <th>841568</th>\n",
       "      <td>002XX N LA SALLE ST</td>\n",
       "      <td>THEFT</td>\n",
       "      <td>FROM BUILDING</td>\n",
       "      <td>OTHER</td>\n",
       "      <td>False</td>\n",
       "      <td>False</td>\n",
       "      <td>113</td>\n",
       "      <td>1.0</td>\n",
       "      <td>42.0</td>\n",
       "      <td>32.0</td>\n",
       "      <td>06</td>\n",
       "      <td>2010</td>\n",
       "      <td>2</td>\n",
       "      <td>2</td>\n",
       "      <td>1</td>\n",
       "      <td>29</td>\n",
       "      <td>14</td>\n",
       "      <td>1</td>\n",
       "      <td>0</td>\n",
       "      <td>2</td>\n",
       "    </tr>\n",
       "    <tr>\n",
       "      <th>863190</th>\n",
       "      <td>009XX W RANDOLPH ST</td>\n",
       "      <td>THEFT</td>\n",
       "      <td>FROM BUILDING</td>\n",
       "      <td>OTHER</td>\n",
       "      <td>False</td>\n",
       "      <td>False</td>\n",
       "      <td>1224</td>\n",
       "      <td>12.0</td>\n",
       "      <td>27.0</td>\n",
       "      <td>28.0</td>\n",
       "      <td>06</td>\n",
       "      <td>2014</td>\n",
       "      <td>3</td>\n",
       "      <td>3</td>\n",
       "      <td>7</td>\n",
       "      <td>25</td>\n",
       "      <td>12</td>\n",
       "      <td>0</td>\n",
       "      <td>0</td>\n",
       "      <td>2</td>\n",
       "    </tr>\n",
       "    <tr>\n",
       "      <th>915224</th>\n",
       "      <td>078XX S YATES BLVD</td>\n",
       "      <td>BATTERY</td>\n",
       "      <td>AGGRAVATED DOMESTIC BATTERY: OTHER DANG WEAPON</td>\n",
       "      <td>RESIDENCE</td>\n",
       "      <td>False</td>\n",
       "      <td>False</td>\n",
       "      <td>414</td>\n",
       "      <td>4.0</td>\n",
       "      <td>7.0</td>\n",
       "      <td>43.0</td>\n",
       "      <td>04B</td>\n",
       "      <td>2014</td>\n",
       "      <td>4</td>\n",
       "      <td>4</td>\n",
       "      <td>9</td>\n",
       "      <td>27</td>\n",
       "      <td>16</td>\n",
       "      <td>1</td>\n",
       "      <td>0</td>\n",
       "      <td>3</td>\n",
       "    </tr>\n",
       "  </tbody>\n",
       "</table>\n",
       "</div>"
      ],
      "text/plain": [
       "                         Block        Primary Type  \\\n",
       "1351495  026XX N MILWAUKEE AVE  DECEPTIVE PRACTICE   \n",
       "460083        031XX S GREEN ST     CRIMINAL DAMAGE   \n",
       "841568     002XX N LA SALLE ST               THEFT   \n",
       "863190     009XX W RANDOLPH ST               THEFT   \n",
       "915224      078XX S YATES BLVD             BATTERY   \n",
       "\n",
       "                                            Description Location Description  \\\n",
       "1351495                           ILLEGAL USE CASH CARD        BAR OR TAVERN   \n",
       "460083                                TO STATE SUP PROP        CHA APARTMENT   \n",
       "841568                                    FROM BUILDING                OTHER   \n",
       "863190                                    FROM BUILDING                OTHER   \n",
       "915224   AGGRAVATED DOMESTIC BATTERY: OTHER DANG WEAPON            RESIDENCE   \n",
       "\n",
       "         Arrest  Domestic  Beat  District  Ward  Community Area FBI Code  \\\n",
       "1351495   False     False  1412      14.0  35.0            22.0       11   \n",
       "460083    False     False   913       9.0  11.0            60.0       14   \n",
       "841568    False     False   113       1.0  42.0            32.0       06   \n",
       "863190    False     False  1224      12.0  27.0            28.0       06   \n",
       "915224    False     False   414       4.0   7.0            43.0      04B   \n",
       "\n",
       "         Year  Latitude  Longitude  Month  Day  Hour  Minute  Second  Type  \n",
       "1351495  2016         0          0      8   29     2       0       0     0  \n",
       "460083   2013         1          1      3    9     2       1       0     1  \n",
       "841568   2010         2          2      1   29    14       1       0     2  \n",
       "863190   2014         3          3      7   25    12       0       0     2  \n",
       "915224   2014         4          4      9   27    16       1       0     3  "
      ]
     },
     "execution_count": 19,
     "metadata": {},
     "output_type": "execute_result"
    }
   ],
   "source": [
    "crimes.head()"
   ]
  },
  {
   "cell_type": "code",
   "execution_count": 49,
   "id": "c653c204-bdff-438c-8e2b-11f9326f27d1",
   "metadata": {},
   "outputs": [],
   "source": [
    "target = 'Type'\n",
    "features = [\"Longitude\", \"Latitude\", \"Month\"]"
   ]
  },
  {
   "cell_type": "code",
   "execution_count": 50,
   "id": "e590ab1e-b64f-420f-8182-c65fef53ccc9",
   "metadata": {},
   "outputs": [
    {
     "name": "stdout",
     "output_type": "stream",
     "text": [
      "Feature Set Used    :  ['Longitude', 'Latitude', 'Month']\n",
      "Target Class        :  Type\n",
      "Training Set Size   :  (399907, 20)\n",
      "Test Set Size       :  (99977, 20)\n"
     ]
    }
   ],
   "source": [
    "# split dataset to training set & test set\n",
    "x, y = train_test_split(crimes, \n",
    "                        test_size = 0.2, \n",
    "                        train_size = 0.8, \n",
    "                        random_state= 3)\n",
    "\n",
    "x1 = x[features]    # features to train\n",
    "x2 = x[target]      # target Class to train\n",
    "y1 = y[features]    # features to test\n",
    "y2 = y[target]      # target Class to test\n",
    "\n",
    "print('Feature Set Used    : ', features)\n",
    "print('Target Class        : ', target)\n",
    "print('Training Set Size   : ', x.shape)\n",
    "print('Test Set Size       : ', y.shape)"
   ]
  },
  {
   "cell_type": "code",
   "execution_count": 51,
   "id": "1dc4671a-2d17-4a75-a3e1-fda1e6979277",
   "metadata": {},
   "outputs": [],
   "source": [
    "clf = KNeighborsClassifier(n_neighbors=100)\n",
    "\n",
    "# model training\n",
    "clf.fit(X=x1, y=x2)\n",
    "\n",
    "# prediction\n",
    "result = clf.predict(y[features])"
   ]
  },
  {
   "cell_type": "code",
   "execution_count": 52,
   "id": "081745d9-ca2a-4eec-b5d5-b2eb7c7294ac",
   "metadata": {},
   "outputs": [
    {
     "name": "stdout",
     "output_type": "stream",
     "text": [
      "K-Nearest Neighbors Results\n",
      "Accuracy    :  0.3714454324494634\n",
      "Recall      :  0.3714454324494634\n",
      "Precision   :  0.35190541227905986\n",
      "Confusion Matrix: \n",
      "[[  244    62  8087  2067    23]\n",
      " [   56   145 11882  3111    34]\n",
      " [  159   160 29832  6569    38]\n",
      " [   89   150 20195  6819    47]\n",
      " [   54    70  7757  2231    96]]\n"
     ]
    }
   ],
   "source": [
    "accuracy = accuracy_score(y2, result)\n",
    "recall = recall_score(y2, result, average=\"weighted\")\n",
    "precision = precision_score(y2, result, average=\"weighted\")\n",
    "confusion = confusion_matrix(y2, result)\n",
    "\n",
    "print(\"K-Nearest Neighbors Results\")\n",
    "print(\"Accuracy    : \", accuracy)\n",
    "print(\"Recall      : \", recall)\n",
    "print(\"Precision   : \", precision)\n",
    "print(\"Confusion Matrix: \")\n",
    "print(confusion)"
   ]
  },
  {
   "cell_type": "code",
   "execution_count": 53,
   "id": "a822a9a4-0481-49c4-8aff-146301e12d7f",
   "metadata": {},
   "outputs": [],
   "source": [
    "forest = RandomForestClassifier(n_estimators=150, # number of trees \n",
    "                                  max_depth = 15)\n",
    "\n",
    "# model training\n",
    "forest.fit(X=x1,\n",
    "           y=x2)\n",
    "\n",
    "# prediction\n",
    "result = forest.predict(y[features])"
   ]
  },
  {
   "cell_type": "code",
   "execution_count": 54,
   "id": "d0a521fd-6799-4276-963a-2ed9231da3d1",
   "metadata": {},
   "outputs": [
    {
     "name": "stdout",
     "output_type": "stream",
     "text": [
      "Random Forest Classifier Results\n",
      "Accuracy    :  0.37116536803464795\n",
      "Recall      :  0.37116536803464795\n",
      "Precision   :  0.376178657966231\n",
      "Confusion Matrix: \n",
      "[[  127    16  9713   618     9]\n",
      " [   25    34 14144  1007    18]\n",
      " [   70    43 34574  2053    18]\n",
      " [   27    28 24933  2297    15]\n",
      " [   18    12  9347   755    76]]\n"
     ]
    }
   ],
   "source": [
    "accuracy = accuracy_score(y2, result)\n",
    "recall = recall_score(y2, result, average=\"weighted\")\n",
    "precision = precision_score(y2, result, average=\"weighted\")\n",
    "confusion = confusion_matrix(y2, result)\n",
    "\n",
    "print(\"Random Forest Classifier Results\")\n",
    "print(\"Accuracy    : \", accuracy)\n",
    "print(\"Recall      : \", recall)\n",
    "print(\"Precision   : \", precision)\n",
    "print(\"Confusion Matrix: \")\n",
    "print(confusion)"
   ]
  },
  {
   "cell_type": "markdown",
   "id": "ea1c02b6-22ad-4067-adfb-fa3cd2c5b9e9",
   "metadata": {},
   "source": [
    "For the first question, my results from K-nearest neighbor and Random Forest Classifier tests were not significant enough as they were both roughly 37%. So the answer is no, I can't make prediction on type of crime based on location and time."
   ]
  },
  {
   "cell_type": "markdown",
   "id": "8cc9ee83-04e1-46af-b7aa-9035fdc0f003",
   "metadata": {},
   "source": [
    "This time, I'm converting all non-numerical columns into numerical."
   ]
  },
  {
   "cell_type": "code",
   "execution_count": 34,
   "id": "0b795037-952a-4f94-ad99-e2ad4c735252",
   "metadata": {},
   "outputs": [],
   "source": [
    "target2 = 'Type'\n",
    "features2 = [\"Arrest\", \"Location Description\", \"Month\"]"
   ]
  },
  {
   "cell_type": "code",
   "execution_count": 35,
   "id": "9e90001b-da85-4d03-b55c-6dacb2d28891",
   "metadata": {},
   "outputs": [
    {
     "data": {
      "text/html": [
       "<div>\n",
       "<style scoped>\n",
       "    .dataframe tbody tr th:only-of-type {\n",
       "        vertical-align: middle;\n",
       "    }\n",
       "\n",
       "    .dataframe tbody tr th {\n",
       "        vertical-align: top;\n",
       "    }\n",
       "\n",
       "    .dataframe thead th {\n",
       "        text-align: right;\n",
       "    }\n",
       "</style>\n",
       "<table border=\"1\" class=\"dataframe\">\n",
       "  <thead>\n",
       "    <tr style=\"text-align: right;\">\n",
       "      <th></th>\n",
       "      <th>Block</th>\n",
       "      <th>Primary Type</th>\n",
       "      <th>Description</th>\n",
       "      <th>Location Description</th>\n",
       "      <th>Arrest</th>\n",
       "      <th>Domestic</th>\n",
       "      <th>Beat</th>\n",
       "      <th>District</th>\n",
       "      <th>Ward</th>\n",
       "      <th>Community Area</th>\n",
       "      <th>FBI Code</th>\n",
       "      <th>Year</th>\n",
       "      <th>Latitude</th>\n",
       "      <th>Longitude</th>\n",
       "      <th>Month</th>\n",
       "      <th>Day</th>\n",
       "      <th>Hour</th>\n",
       "      <th>Minute</th>\n",
       "      <th>Second</th>\n",
       "      <th>Type</th>\n",
       "    </tr>\n",
       "  </thead>\n",
       "  <tbody>\n",
       "    <tr>\n",
       "      <th>1351495</th>\n",
       "      <td>026XX N MILWAUKEE AVE</td>\n",
       "      <td>DECEPTIVE PRACTICE</td>\n",
       "      <td>ILLEGAL USE CASH CARD</td>\n",
       "      <td>23</td>\n",
       "      <td>0</td>\n",
       "      <td>False</td>\n",
       "      <td>1412</td>\n",
       "      <td>14.0</td>\n",
       "      <td>35.0</td>\n",
       "      <td>22.0</td>\n",
       "      <td>11</td>\n",
       "      <td>2016</td>\n",
       "      <td>0</td>\n",
       "      <td>0</td>\n",
       "      <td>7</td>\n",
       "      <td>29</td>\n",
       "      <td>2</td>\n",
       "      <td>0</td>\n",
       "      <td>0</td>\n",
       "      <td>0</td>\n",
       "    </tr>\n",
       "    <tr>\n",
       "      <th>460083</th>\n",
       "      <td>031XX S GREEN ST</td>\n",
       "      <td>CRIMINAL DAMAGE</td>\n",
       "      <td>TO STATE SUP PROP</td>\n",
       "      <td>32</td>\n",
       "      <td>0</td>\n",
       "      <td>False</td>\n",
       "      <td>913</td>\n",
       "      <td>9.0</td>\n",
       "      <td>11.0</td>\n",
       "      <td>60.0</td>\n",
       "      <td>14</td>\n",
       "      <td>2013</td>\n",
       "      <td>1</td>\n",
       "      <td>1</td>\n",
       "      <td>2</td>\n",
       "      <td>9</td>\n",
       "      <td>2</td>\n",
       "      <td>1</td>\n",
       "      <td>0</td>\n",
       "      <td>1</td>\n",
       "    </tr>\n",
       "    <tr>\n",
       "      <th>841568</th>\n",
       "      <td>002XX N LA SALLE ST</td>\n",
       "      <td>THEFT</td>\n",
       "      <td>FROM BUILDING</td>\n",
       "      <td>86</td>\n",
       "      <td>0</td>\n",
       "      <td>False</td>\n",
       "      <td>113</td>\n",
       "      <td>1.0</td>\n",
       "      <td>42.0</td>\n",
       "      <td>32.0</td>\n",
       "      <td>06</td>\n",
       "      <td>2010</td>\n",
       "      <td>2</td>\n",
       "      <td>2</td>\n",
       "      <td>0</td>\n",
       "      <td>29</td>\n",
       "      <td>14</td>\n",
       "      <td>1</td>\n",
       "      <td>0</td>\n",
       "      <td>2</td>\n",
       "    </tr>\n",
       "    <tr>\n",
       "      <th>863190</th>\n",
       "      <td>009XX W RANDOLPH ST</td>\n",
       "      <td>THEFT</td>\n",
       "      <td>FROM BUILDING</td>\n",
       "      <td>86</td>\n",
       "      <td>0</td>\n",
       "      <td>False</td>\n",
       "      <td>1224</td>\n",
       "      <td>12.0</td>\n",
       "      <td>27.0</td>\n",
       "      <td>28.0</td>\n",
       "      <td>06</td>\n",
       "      <td>2014</td>\n",
       "      <td>3</td>\n",
       "      <td>3</td>\n",
       "      <td>6</td>\n",
       "      <td>25</td>\n",
       "      <td>12</td>\n",
       "      <td>0</td>\n",
       "      <td>0</td>\n",
       "      <td>2</td>\n",
       "    </tr>\n",
       "    <tr>\n",
       "      <th>915224</th>\n",
       "      <td>078XX S YATES BLVD</td>\n",
       "      <td>BATTERY</td>\n",
       "      <td>AGGRAVATED DOMESTIC BATTERY: OTHER DANG WEAPON</td>\n",
       "      <td>98</td>\n",
       "      <td>0</td>\n",
       "      <td>False</td>\n",
       "      <td>414</td>\n",
       "      <td>4.0</td>\n",
       "      <td>7.0</td>\n",
       "      <td>43.0</td>\n",
       "      <td>04B</td>\n",
       "      <td>2014</td>\n",
       "      <td>4</td>\n",
       "      <td>4</td>\n",
       "      <td>8</td>\n",
       "      <td>27</td>\n",
       "      <td>16</td>\n",
       "      <td>1</td>\n",
       "      <td>0</td>\n",
       "      <td>3</td>\n",
       "    </tr>\n",
       "  </tbody>\n",
       "</table>\n",
       "</div>"
      ],
      "text/plain": [
       "                         Block        Primary Type  \\\n",
       "1351495  026XX N MILWAUKEE AVE  DECEPTIVE PRACTICE   \n",
       "460083        031XX S GREEN ST     CRIMINAL DAMAGE   \n",
       "841568     002XX N LA SALLE ST               THEFT   \n",
       "863190     009XX W RANDOLPH ST               THEFT   \n",
       "915224      078XX S YATES BLVD             BATTERY   \n",
       "\n",
       "                                            Description  Location Description  \\\n",
       "1351495                           ILLEGAL USE CASH CARD                    23   \n",
       "460083                                TO STATE SUP PROP                    32   \n",
       "841568                                    FROM BUILDING                    86   \n",
       "863190                                    FROM BUILDING                    86   \n",
       "915224   AGGRAVATED DOMESTIC BATTERY: OTHER DANG WEAPON                    98   \n",
       "\n",
       "         Arrest  Domestic  Beat  District  Ward  Community Area FBI Code  \\\n",
       "1351495       0     False  1412      14.0  35.0            22.0       11   \n",
       "460083        0     False   913       9.0  11.0            60.0       14   \n",
       "841568        0     False   113       1.0  42.0            32.0       06   \n",
       "863190        0     False  1224      12.0  27.0            28.0       06   \n",
       "915224        0     False   414       4.0   7.0            43.0      04B   \n",
       "\n",
       "         Year  Latitude  Longitude  Month  Day  Hour  Minute  Second  Type  \n",
       "1351495  2016         0          0      7   29     2       0       0     0  \n",
       "460083   2013         1          1      2    9     2       1       0     1  \n",
       "841568   2010         2          2      0   29    14       1       0     2  \n",
       "863190   2014         3          3      6   25    12       0       0     2  \n",
       "915224   2014         4          4      8   27    16       1       0     3  "
      ]
     },
     "execution_count": 35,
     "metadata": {},
     "output_type": "execute_result"
    }
   ],
   "source": [
    "from sklearn.preprocessing import LabelEncoder\n",
    "\n",
    "for col in features2:\n",
    "        globals()['LE_{}'.format(col)] = LabelEncoder()\n",
    "        crimes[col] = globals()['LE_{}'.format(col)].fit_transform(crimes[col])\n",
    "crimes.head()    "
   ]
  },
  {
   "cell_type": "code",
   "execution_count": 36,
   "id": "4a9f781b-d3e4-441a-9aa4-e3bb2eb77a2a",
   "metadata": {},
   "outputs": [
    {
     "name": "stdout",
     "output_type": "stream",
     "text": [
      "Arrest   :  [False  True]\n",
      "Location Description   :  ['ABANDONED BUILDING' 'AIRCRAFT'\n",
      " 'AIRPORT BUILDING NON-TERMINAL - NON-SECURE AREA'\n",
      " 'AIRPORT BUILDING NON-TERMINAL - SECURE AREA'\n",
      " 'AIRPORT EXTERIOR - NON-SECURE AREA' 'AIRPORT EXTERIOR - SECURE AREA'\n",
      " 'AIRPORT PARKING LOT' 'AIRPORT TERMINAL LOWER LEVEL - NON-SECURE AREA'\n",
      " 'AIRPORT TERMINAL LOWER LEVEL - SECURE AREA'\n",
      " 'AIRPORT TERMINAL MEZZANINE - NON-SECURE AREA'\n",
      " 'AIRPORT TERMINAL UPPER LEVEL - NON-SECURE AREA'\n",
      " 'AIRPORT TERMINAL UPPER LEVEL - SECURE AREA'\n",
      " 'AIRPORT TRANSPORTATION SYSTEM (ATS)' 'AIRPORT VENDING ESTABLISHMENT'\n",
      " 'AIRPORT/AIRCRAFT' 'ALLEY' 'ANIMAL HOSPITAL' 'APARTMENT'\n",
      " 'APPLIANCE STORE' 'ATHLETIC CLUB' 'ATM (AUTOMATIC TELLER MACHINE)' 'AUTO'\n",
      " 'BANK' 'BAR OR TAVERN' 'BARBER SHOP/BEAUTY SALON' 'BARBERSHOP' 'BASEMENT'\n",
      " 'BOAT/WATERCRAFT' 'BOWLING ALLEY' 'BRIDGE' 'CAR WASH' 'CEMETARY'\n",
      " 'CHA APARTMENT' 'CHA HALLWAY/STAIRWELL/ELEVATOR' 'CHA PARKING LOT'\n",
      " 'CHA PARKING LOT/GROUNDS' 'CHURCH/SYNAGOGUE/PLACE OF WORSHIP'\n",
      " 'CLEANING STORE' 'CLUB' 'COIN OPERATED MACHINE'\n",
      " 'COLLEGE/UNIVERSITY GROUNDS' 'COLLEGE/UNIVERSITY RESIDENCE HALL'\n",
      " 'COMMERCIAL / BUSINESS OFFICE' 'CONSTRUCTION SITE' 'CONVENIENCE STORE'\n",
      " 'CREDIT UNION' 'CTA BUS' 'CTA BUS STOP' 'CTA GARAGE / OTHER PROPERTY'\n",
      " 'CTA PLATFORM' 'CTA STATION' 'CTA TRACKS - RIGHT OF WAY' 'CTA TRAIN'\n",
      " 'CURRENCY EXCHANGE' 'DAY CARE CENTER' 'DELIVERY TRUCK' 'DEPARTMENT STORE'\n",
      " 'DRIVEWAY' 'DRIVEWAY - RESIDENTIAL' 'DRUG STORE' 'DUMPSTER'\n",
      " 'FACTORY/MANUFACTURING BUILDING' 'FEDERAL BUILDING' 'FIRE STATION'\n",
      " 'FOREST PRESERVE' 'GANGWAY' 'GARAGE' 'GAS STATION'\n",
      " 'GAS STATION DRIVE/PROP.' 'GOVERNMENT BUILDING/PROPERTY'\n",
      " 'GROCERY FOOD STORE' 'HALLWAY' 'HIGHWAY/EXPRESSWAY'\n",
      " 'HOSPITAL BUILDING/GROUNDS' 'HOTEL' 'HOTEL/MOTEL' 'HOUSE'\n",
      " 'JAIL / LOCK-UP FACILITY' 'LAKEFRONT/WATERFRONT/RIVERBANK' 'LAUNDRY ROOM'\n",
      " 'LIBRARY' 'MEDICAL/DENTAL OFFICE' 'MOVIE HOUSE/THEATER' 'NEWSSTAND'\n",
      " 'NURSING HOME' 'NURSING HOME/RETIREMENT HOME' 'OTHER'\n",
      " 'OTHER COMMERCIAL TRANSPORTATION' 'OTHER RAILROAD PROP / TRAIN DEPOT'\n",
      " 'PARK PROPERTY' 'PARKING LOT' 'PARKING LOT/GARAGE(NON.RESID.)'\n",
      " 'PAWN SHOP' 'POLICE FACILITY/VEH PARKING LOT' 'POOL ROOM' 'POOLROOM'\n",
      " 'PORCH' 'RAILROAD PROPERTY' 'RESIDENCE' 'RESIDENCE PORCH/HALLWAY'\n",
      " 'RESIDENCE-GARAGE' 'RESIDENTIAL YARD (FRONT/BACK)' 'RESTAURANT'\n",
      " 'RETAIL STORE' 'ROOMING HOUSE' 'SAVINGS AND LOAN'\n",
      " 'SCHOOL, PRIVATE, BUILDING' 'SCHOOL, PRIVATE, GROUNDS'\n",
      " 'SCHOOL, PUBLIC, BUILDING' 'SCHOOL, PUBLIC, GROUNDS' 'SIDEWALK'\n",
      " 'SMALL RETAIL STORE' 'SPORTS ARENA/STADIUM' 'STAIRWELL' 'STREET' 'TAVERN'\n",
      " 'TAVERN/LIQUOR STORE' 'TAXICAB' 'VACANT LOT' 'VACANT LOT/LAND'\n",
      " 'VEHICLE - DELIVERY TRUCK' 'VEHICLE - OTHER RIDE SERVICE'\n",
      " 'VEHICLE NON-COMMERCIAL' 'VEHICLE-COMMERCIAL' 'VESTIBULE' 'WAREHOUSE'\n",
      " 'YARD']\n",
      "Month   :  [ 1  2  3  4  5  6  7  8  9 10 11 12]\n"
     ]
    }
   ],
   "source": [
    "for col in features2:\n",
    "    print(col , \"  : \", globals()['LE_{}'.format(col)].classes_)"
   ]
  },
  {
   "cell_type": "code",
   "execution_count": 37,
   "id": "87bfc526-5183-4c0c-92d8-8798bd648c63",
   "metadata": {},
   "outputs": [
    {
     "name": "stdout",
     "output_type": "stream",
     "text": [
      "Feature Set Used    :  ['Arrest', 'Location Description', 'Month']\n",
      "Target Class        :  Type\n",
      "Training Set Size   :  (399907, 20)\n",
      "Test Set Size       :  (99977, 20)\n"
     ]
    }
   ],
   "source": [
    "# split dataset to training set & test set\n",
    "x, y = train_test_split(crimes, \n",
    "                        test_size = 0.2, \n",
    "                        train_size = 0.8, \n",
    "                        random_state= 3)\n",
    "\n",
    "x1 = x[features2]    # features to train\n",
    "x2 = x[target2]      # target Class to train\n",
    "y1 = y[features2]    # features to test\n",
    "y2 = y[target2]      # target Class to test\n",
    "\n",
    "print('Feature Set Used    : ', features2)\n",
    "print('Target Class        : ', target2)\n",
    "print('Training Set Size   : ', x.shape)\n",
    "print('Test Set Size       : ', y.shape)"
   ]
  },
  {
   "cell_type": "code",
   "execution_count": 38,
   "id": "d1d28f4e-c5d6-4e2f-8c61-6d78c85d19c3",
   "metadata": {},
   "outputs": [],
   "source": [
    "clf = KNeighborsClassifier(n_neighbors=100)\n",
    "\n",
    "# model training\n",
    "clf.fit(X=x1, y=x2)\n",
    "\n",
    "# prediction\n",
    "result = clf.predict(y[features2])"
   ]
  },
  {
   "cell_type": "code",
   "execution_count": 39,
   "id": "80ab5690-45cc-4e61-a962-0e191e97c5d0",
   "metadata": {},
   "outputs": [
    {
     "name": "stdout",
     "output_type": "stream",
     "text": [
      "K-Nearest Neighbors Results\n",
      "Accuracy    :  0.5040059213619132\n",
      "Recall      :  0.5040059213619132\n",
      "Precision   :  0.47341374547253723\n",
      "Confusion Matrix: \n",
      "[[ 1495   135  4538  3306  1009]\n",
      " [  504   770  8594  3854  1506]\n",
      " [  995   252 26254  8386   871]\n",
      " [  821   450  9263 13472  3294]\n",
      " [   81   473   206  1050  8398]]\n"
     ]
    }
   ],
   "source": [
    "accuracy = accuracy_score(y2, result)\n",
    "recall = recall_score(y2, result, average=\"weighted\")\n",
    "precision = precision_score(y2, result, average=\"weighted\")\n",
    "confusion = confusion_matrix(y2, result)\n",
    "\n",
    "print(\"K-Nearest Neighbors Results\")\n",
    "print(\"Accuracy    : \", accuracy)\n",
    "print(\"Recall      : \", recall)\n",
    "print(\"Precision   : \", precision)\n",
    "print(\"Confusion Matrix: \")\n",
    "print(confusion)"
   ]
  },
  {
   "cell_type": "code",
   "execution_count": 40,
   "id": "3ea5368e-f643-4b62-8778-11f5a5319aa7",
   "metadata": {},
   "outputs": [],
   "source": [
    "forest = RandomForestClassifier(n_estimators=150, # number of trees \n",
    "                                  max_depth = 15)\n",
    "\n",
    "# model training\n",
    "forest.fit(X=x1,\n",
    "             y=x2)\n",
    "\n",
    "# prediction\n",
    "result = forest.predict(y[features2])"
   ]
  },
  {
   "cell_type": "code",
   "execution_count": 41,
   "id": "222ca191-922e-4a1a-b04f-489aabaaa864",
   "metadata": {},
   "outputs": [
    {
     "name": "stdout",
     "output_type": "stream",
     "text": [
      "Random Forest Classifier Results\n",
      "Accuracy    :  0.5077867909619213\n",
      "Recall      :  0.5077867909619213\n",
      "Precision   :  0.48205900187467265\n",
      "Confusion Matrix: \n",
      "[[ 1164   160  6017  2116  1026]\n",
      " [  276   905  9342  3227  1478]\n",
      " [  606   320 27457  7499   876]\n",
      " [  425   522 10225 12829  3299]\n",
      " [   78   542   129  1047  8412]]\n"
     ]
    }
   ],
   "source": [
    "accuracy = accuracy_score(y2, result)\n",
    "recall = recall_score(y2, result, average=\"weighted\")\n",
    "precision = precision_score(y2, result, average=\"weighted\")\n",
    "confusion = confusion_matrix(y2, result)\n",
    "\n",
    "print(\"Random Forest Classifier Results\")\n",
    "print(\"Accuracy    : \", accuracy)\n",
    "print(\"Recall      : \", recall)\n",
    "print(\"Precision   : \", precision)\n",
    "print(\"Confusion Matrix: \")\n",
    "print(confusion)"
   ]
  },
  {
   "cell_type": "markdown",
   "id": "b99fb756-b0c2-4730-bcb3-fc45d29f7756",
   "metadata": {},
   "source": [
    "For the second question, the results from K-nearest neighbor and Random Forest Classifier tests were both roghly 50% (different by only one decimal place). So the answer for this question is still no, I can't predict type of crimes based on if they got arrested or not, location description, and month."
   ]
  },
  {
   "cell_type": "code",
   "execution_count": 42,
   "id": "f7888f97-7594-4558-a96e-bde2d9b265e1",
   "metadata": {},
   "outputs": [],
   "source": [
    "target = 'Arrest'\n",
    "features = [\"Type\", \"Location Description\"]"
   ]
  },
  {
   "cell_type": "code",
   "execution_count": 43,
   "id": "97457fc3-b659-48bf-ab28-4e8be0677588",
   "metadata": {},
   "outputs": [
    {
     "name": "stdout",
     "output_type": "stream",
     "text": [
      "Feature Set Used    :  ['Type', 'Location Description']\n",
      "Target Class        :  Arrest\n",
      "Training Set Size   :  (399907, 20)\n",
      "Test Set Size       :  (99977, 20)\n"
     ]
    }
   ],
   "source": [
    "# split dataset to training set & test set\n",
    "x, y = train_test_split(crimes, \n",
    "                        test_size = 0.2, \n",
    "                        train_size = 0.8, \n",
    "                        random_state= 3)\n",
    "\n",
    "x1 = x[features]    # features to train\n",
    "x2 = x[target]      # target Class to train\n",
    "y1 = y[features]    # features to test\n",
    "y2 = y[target]      # target Class to test\n",
    "\n",
    "print('Feature Set Used    : ', features)\n",
    "print('Target Class        : ', target)\n",
    "print('Training Set Size   : ', x.shape)\n",
    "print('Test Set Size       : ', y.shape)"
   ]
  },
  {
   "cell_type": "code",
   "execution_count": 44,
   "id": "f5ad0697-9a62-4aec-ac5c-57164440e441",
   "metadata": {},
   "outputs": [],
   "source": [
    "clf = KNeighborsClassifier(n_neighbors=100)\n",
    "\n",
    "# model training\n",
    "clf.fit(X=x1, y=x2)\n",
    "\n",
    "# prediction\n",
    "result = clf.predict(y[features])"
   ]
  },
  {
   "cell_type": "code",
   "execution_count": 45,
   "id": "972e4124-552c-45f0-bbee-3a3b81c25cb5",
   "metadata": {},
   "outputs": [
    {
     "name": "stdout",
     "output_type": "stream",
     "text": [
      "K-Nearest Neighbors Results\n",
      "Accuracy    :  0.8500955219700531\n",
      "Recall      :  0.8500955219700531\n",
      "Precision   :  0.8546700135223582\n",
      "Confusion Matrix: \n",
      "[[71840  1728]\n",
      " [13259 13150]]\n"
     ]
    }
   ],
   "source": [
    "accuracy = accuracy_score(y2, result)\n",
    "recall = recall_score(y2, result, average=\"weighted\")\n",
    "precision = precision_score(y2, result, average=\"weighted\")\n",
    "confusion = confusion_matrix(y2, result)\n",
    "\n",
    "print(\"K-Nearest Neighbors Results\")\n",
    "print(\"Accuracy    : \", accuracy)\n",
    "print(\"Recall      : \", recall)\n",
    "print(\"Precision   : \", precision)\n",
    "print(\"Confusion Matrix: \")\n",
    "print(confusion)"
   ]
  },
  {
   "cell_type": "code",
   "execution_count": 46,
   "id": "120c7363-41c1-4542-9b3d-f4320e6dca51",
   "metadata": {},
   "outputs": [],
   "source": [
    "def splitData(features):\n",
    "    \"\"\"Split a subset of the titanic dataset, given by the features, into train and test sets.\"\"\"\n",
    "    arrest_predictors = crimes[features].values\n",
    "    arrest_labels = crimes[\"Arrest\"].values\n",
    "\n",
    "    # Split into training and test sets\n",
    "    XTrain, XTest, yTrain, yTest = train_test_split(arrest_predictors, arrest_labels, random_state=1, test_size=0.5)\n",
    "    return XTrain, XTest, yTrain, yTest\n",
    "def plot_new_tree(features):\n",
    "    decisionTree = DecisionTreeClassifier()\n",
    "\n",
    "    XTrain, XTest, yTrain, yTest = splitData(features)\n",
    "    # fit the tree with the traing data\n",
    "    decisionTree = decisionTree.fit(XTrain, yTrain)\n",
    "\n",
    "    # predict with the training data\n",
    "    y_pred_train = decisionTree.predict(XTrain)\n",
    "    # measure accuracy\n",
    "    print('Accuracy on training data = ', metrics.accuracy_score(y_true = yTrain, y_pred = y_pred_train))\n",
    "\n",
    "    # predict with the test data\n",
    "    y_pred = decisionTree.predict(XTest)\n",
    "    # measure accuracy\n",
    "    print('Accuracy on test data = ', metrics.accuracy_score(y_true = yTest, y_pred = y_pred))\n",
    "    \n",
    "    plt.figure(figsize=(16,8))\n",
    "    plot_tree(\n",
    "        decisionTree, \n",
    "        feature_names=features,\n",
    "        class_names = [\"Yes\", \"No\"],\n",
    "        impurity=False,\n",
    "        filled=True,\n",
    "        proportion=True,\n",
    "        rounded=True,\n",
    "        precision=1,\n",
    "        fontsize=12,\n",
    "    )\n",
    "    plt.show()"
   ]
  },
  {
   "cell_type": "code",
   "execution_count": 47,
   "id": "63df75b7-bdc4-4a65-8ac2-3d5fe649b2d3",
   "metadata": {},
   "outputs": [
    {
     "name": "stdout",
     "output_type": "stream",
     "text": [
      "Accuracy on training data =  0.8353297965127909\n",
      "Accuracy on test data =  0.836602091685271\n"
     ]
    },
    {
     "data": {
      "image/png": "[encoded data removed]",
      "text/plain": [
       "<Figure size 1152x576 with 1 Axes>"
      ]
     },
     "metadata": {
      "needs_background": "light"
     },
     "output_type": "display_data"
    }
   ],
   "source": [
    "plot_new_tree([\"Type\"])"
   ]
  },
  {
   "cell_type": "code",
   "execution_count": 48,
   "id": "df9eae48-da21-4665-9773-cbf395f8c3e5",
   "metadata": {},
   "outputs": [
    {
     "name": "stdout",
     "output_type": "stream",
     "text": [
      "Random Forest Classifier Results\n",
      "Accuracy    :  0.8506756554007422\n",
      "Recall      :  0.8506756554007422\n",
      "Precision   :  0.855251005711416\n",
      "Confusion Matrix: \n",
      "[[71845  1723]\n",
      " [13206 13203]]\n"
     ]
    }
   ],
   "source": [
    "forest = RandomForestClassifier(n_estimators=150, # number of trees \n",
    "                                  max_depth = 15)\n",
    "\n",
    "# model training\n",
    "forest.fit(X=x1,\n",
    "             y=x2)\n",
    "\n",
    "# prediction\n",
    "result = forest.predict(y[features])\n",
    "accuracy = accuracy_score(y2, result)\n",
    "recall = recall_score(y2, result, average=\"weighted\")\n",
    "precision = precision_score(y2, result, average=\"weighted\")\n",
    "confusion = confusion_matrix(y2, result)\n",
    "\n",
    "print(\"Random Forest Classifier Results\")\n",
    "print(\"Accuracy    : \", accuracy)\n",
    "print(\"Recall      : \", recall)\n",
    "print(\"Precision   : \", precision)\n",
    "print(\"Confusion Matrix: \")\n",
    "print(confusion)"
   ]
  },
  {
   "cell_type": "markdown",
   "id": "f54b213a-25bb-4b56-a9ea-146a27b086c4",
   "metadata": {},
   "source": [
    "I performed one extra test for the last question to make sure all the accuracy scores were good. In conclusion, one can predict if a crime would get arrested or not based on the type of crime and the location descriptions."
   ]
  }
 ],
 "metadata": {
  "kernelspec": {
   "display_name": "Python 3 (ipykernel)",
   "language": "python",
   "name": "python3"
  },
  "language_info": {
   "codemirror_mode": {
    "name": "ipython",
    "version": 3
   },
   "file_extension": ".py",
   "mimetype": "text/x-python",
   "name": "python",
   "nbconvert_exporter": "python",
   "pygments_lexer": "ipython3",
   "version": "3.8.1"
  }
 },
 "nbformat": 4,
 "nbformat_minor": 5
}
